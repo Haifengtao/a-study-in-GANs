{
 "cells": [
  {
   "cell_type": "code",
   "execution_count": 22,
   "metadata": {},
   "outputs": [],
   "source": [
    "import torch.nn as nn\n",
    "from torchvision.models import vgg19"
   ]
  },
  {
   "cell_type": "code",
   "execution_count": 23,
   "metadata": {},
   "outputs": [],
   "source": [
    "class discriminatorLoss(nn.Module):\n",
    "    \n",
    "    def __init__(self, generator, discriminator, device):\n",
    "        \n",
    "        super().__init__()\n",
    "        self.device = device\n",
    "        self.generator = generator\n",
    "        self.discriminator = discriminator\n",
    "        self.bceloss = nn.BCELoss().to(device)\n",
    "        \n",
    "    def forward(self, LR_image, HR_image):\n",
    "        \n",
    "        HR_pred = self.discriminator(HR_image)\n",
    "        SR_image = self.generator(LR_image)\n",
    "        SR_pred = self.discriminator(SR_image)\n",
    "        real_ = torch.ones(HR_pred.shape).to(self.device)\n",
    "        fake_ = torch.zeros(SR_pred.shape).to(self.device)\n",
    "        \n",
    "        HR_loss = self.bceloss(HR_pred, real_)\n",
    "        SR_loss = self.bceloss(SR_pred, fake_)\n",
    "        loss = HR_loss + SR_loss\n",
    "        \n",
    "        return loss\n",
    "        "
   ]
  },
  {
   "cell_type": "code",
   "execution_count": 24,
   "metadata": {},
   "outputs": [],
   "source": [
    "class generatorLoss(nn.Module):\n",
    "    \n",
    "    def __init__(self, generator, discriminator, device):\n",
    "        \n",
    "        super().__init__()\n",
    "        \n",
    "        self.generator = generator\n",
    "        self.discriminator\n",
    "        \n",
    "        vgg19 = vgg19(pretrained=True, progress=True)\n",
    "        \n",
    "        vgg_loss = nn.Sequential(*(list(vgg19)[:9])).eval()\n",
    "        for param in vgg_loss.parameters():\n",
    "            param.requires_grad = False\n",
    "        \n",
    "        self.vgg_features = vgg_loss.to(device)\n",
    "        self.mseloss = nn.MSELoss.to(device)\n",
    "        self.bceloss = nn.BCELoss.to(device)\n",
    "        \n",
    "        \n",
    "    def forward(self, LR_image, HR_image):\n",
    "        \n",
    "        SR_image = self.generator(LR_image)\n",
    "        SR_pred = self.discriminator(SR_image)\n",
    "        real_ = torch.ones(SR_pred.shape).to(self.device)\n",
    "        \n",
    "        adversial_loss = self.bceloss(SR_pred, real_)\n",
    "        perceptual_loss = self.mseloss(self.vgg_features(HR_image), self.vgg_features(SR_image))\n",
    "        content_loss = self.mseloss(HR_image, SR_image)\n",
    "        \n",
    "        return content_loss + 0.001*adversial_loss + 0.006*perceptual_loss\n",
    "    "
   ]
  }
 ],
 "metadata": {
  "kernelspec": {
   "display_name": "Python 3",
   "language": "python",
   "name": "python3"
  },
  "language_info": {
   "codemirror_mode": {
    "name": "ipython",
    "version": 3
   },
   "file_extension": ".py",
   "mimetype": "text/x-python",
   "name": "python",
   "nbconvert_exporter": "python",
   "pygments_lexer": "ipython3",
   "version": "3.7.3"
  }
 },
 "nbformat": 4,
 "nbformat_minor": 2
}
